{
 "cells": [
  {
   "cell_type": "markdown",
   "metadata": {},
   "source": [
    "## Загрузка данных"
   ]
  },
  {
   "cell_type": "markdown",
   "metadata": {},
   "source": [
    "### Библиотеки:"
   ]
  },
  {
   "cell_type": "code",
   "execution_count": 1,
   "metadata": {},
   "outputs": [],
   "source": [
    "import pandas as pd\n",
    "from openpyxl import load_workbook\n",
    "\n",
    "from sklearn.feature_extraction.text import CountVectorizer\n",
    "from scipy.cluster.hierarchy import linkage, fcluster"
   ]
  },
  {
   "cell_type": "markdown",
   "metadata": {},
   "source": [
    "### Файлы"
   ]
  },
  {
   "cell_type": "markdown",
   "metadata": {},
   "source": [
    "#### ТОП10 выдачи Яндекса по каждой фразе"
   ]
  },
  {
   "cell_type": "code",
   "execution_count": 2,
   "metadata": {},
   "outputs": [],
   "source": [
    "df = pd.read_excel('sem_yadro_krovelnye_raboty.xlsx', sheet_name = 'serp')"
   ]
  },
  {
   "cell_type": "markdown",
   "metadata": {},
   "source": [
    "### Проверка на пропуски Nan"
   ]
  },
  {
   "cell_type": "markdown",
   "metadata": {},
   "source": [
    "#### Подсчет пропусков во всей таблице"
   ]
  },
  {
   "cell_type": "code",
   "execution_count": 3,
   "metadata": {},
   "outputs": [
    {
     "data": {
      "text/plain": [
       "Фраза             0\n",
       "Title [Yandex]    0\n",
       "URL [Yandex]      0\n",
       "dtype: int64"
      ]
     },
     "execution_count": 3,
     "metadata": {},
     "output_type": "execute_result"
    }
   ],
   "source": [
    "df.isna().sum()"
   ]
  },
  {
   "cell_type": "markdown",
   "metadata": {},
   "source": [
    "#### Удаление строк с пропусками"
   ]
  },
  {
   "cell_type": "code",
   "execution_count": 4,
   "metadata": {},
   "outputs": [],
   "source": [
    "df.dropna(inplace=True)"
   ]
  },
  {
   "cell_type": "code",
   "execution_count": 5,
   "metadata": {},
   "outputs": [
    {
     "data": {
      "text/plain": [
       "Фраза             0\n",
       "Title [Yandex]    0\n",
       "URL [Yandex]      0\n",
       "dtype: int64"
      ]
     },
     "execution_count": 5,
     "metadata": {},
     "output_type": "execute_result"
    }
   ],
   "source": [
    "df.isna().sum()"
   ]
  },
  {
   "cell_type": "markdown",
   "metadata": {},
   "source": [
    "### Переименование столбцов"
   ]
  },
  {
   "cell_type": "code",
   "execution_count": 6,
   "metadata": {},
   "outputs": [],
   "source": [
    "df.rename(columns={'URL [Yandex]':'URL', 'Title [Yandex]':'Title'}, inplace=True)"
   ]
  },
  {
   "cell_type": "markdown",
   "metadata": {},
   "source": [
    "### Отбрасывание строк, в URL которых есть \"yandex\""
   ]
  },
  {
   "cell_type": "code",
   "execution_count": 7,
   "metadata": {},
   "outputs": [],
   "source": [
    "filt =~(df['URL'].str.contains('yandex', regex=True))"
   ]
  },
  {
   "cell_type": "code",
   "execution_count": 8,
   "metadata": {},
   "outputs": [],
   "source": [
    "df = df[filt]"
   ]
  },
  {
   "cell_type": "markdown",
   "metadata": {},
   "source": [
    "## Кластеризация"
   ]
  },
  {
   "cell_type": "markdown",
   "metadata": {},
   "source": [
    "### Векторизация"
   ]
  },
  {
   "cell_type": "markdown",
   "metadata": {},
   "source": [
    "#### Создание экземпляра класса векторизатора"
   ]
  },
  {
   "cell_type": "code",
   "execution_count": 9,
   "metadata": {},
   "outputs": [],
   "source": [
    "vectorizer = CountVectorizer(min_df=2, token_pattern='[^\\ ]+')"
   ]
  },
  {
   "cell_type": "markdown",
   "metadata": {},
   "source": [
    "#### Обучение векторизатора на собранных URL"
   ]
  },
  {
   "cell_type": "code",
   "execution_count": 10,
   "metadata": {},
   "outputs": [],
   "source": [
    "ml_df = vectorizer.fit_transform(df['URL'])"
   ]
  },
  {
   "cell_type": "markdown",
   "metadata": {},
   "source": [
    "### Кластеризация"
   ]
  },
  {
   "cell_type": "code",
   "execution_count": 11,
   "metadata": {},
   "outputs": [],
   "source": [
    "link_ml_df = linkage(ml_df.toarray(), method='ward')"
   ]
  },
  {
   "cell_type": "code",
   "execution_count": 12,
   "metadata": {},
   "outputs": [],
   "source": [
    "df['Кластер_serp'] = fcluster(link_ml_df, 70, criterion = 'maxclust')"
   ]
  },
  {
   "cell_type": "markdown",
   "metadata": {},
   "source": [
    "#### Результат"
   ]
  },
  {
   "cell_type": "code",
   "execution_count": 13,
   "metadata": {
    "scrolled": false
   },
   "outputs": [
    {
     "data": {
      "text/html": [
       "<div>\n",
       "<style scoped>\n",
       "    .dataframe tbody tr th:only-of-type {\n",
       "        vertical-align: middle;\n",
       "    }\n",
       "\n",
       "    .dataframe tbody tr th {\n",
       "        vertical-align: top;\n",
       "    }\n",
       "\n",
       "    .dataframe thead th {\n",
       "        text-align: right;\n",
       "    }\n",
       "</style>\n",
       "<table border=\"1\" class=\"dataframe\">\n",
       "  <thead>\n",
       "    <tr style=\"text-align: right;\">\n",
       "      <th></th>\n",
       "      <th>Фраза</th>\n",
       "      <th>Title</th>\n",
       "      <th>URL</th>\n",
       "      <th>Кластер_serp</th>\n",
       "    </tr>\n",
       "  </thead>\n",
       "  <tbody>\n",
       "    <tr>\n",
       "      <th>0</th>\n",
       "      <td>кровельные работы в спб и лен обл</td>\n",
       "      <td>Кровельные работы, цена за м2 в Ленинградской ...</td>\n",
       "      <td>https://www.remontnik.ru/leningradskaya_oblast...</td>\n",
       "      <td>70</td>\n",
       "    </tr>\n",
       "    <tr>\n",
       "      <th>2</th>\n",
       "      <td>кровельные работы в спб и лен обл</td>\n",
       "      <td>Монтаж кровли в Санкт-Петербурге, кровельные р...</td>\n",
       "      <td>https://len-krov.ru/</td>\n",
       "      <td>36</td>\n",
       "    </tr>\n",
       "    <tr>\n",
       "      <th>4</th>\n",
       "      <td>кровельные работы в спб и лен обл</td>\n",
       "      <td>Кровельные работы в Ленинградской области | Кр...</td>\n",
       "      <td>https://krovmontage.spb.ru/krovelnye-raboty-v-...</td>\n",
       "      <td>70</td>\n",
       "    </tr>\n",
       "    <tr>\n",
       "      <th>5</th>\n",
       "      <td>кровельные работы в спб и лен обл</td>\n",
       "      <td>ремонт кровли - Предложения услуг в Ленинградс...</td>\n",
       "      <td>https://www.avito.ru/leningradskaya_oblast/pre...</td>\n",
       "      <td>51</td>\n",
       "    </tr>\n",
       "    <tr>\n",
       "      <th>6</th>\n",
       "      <td>кровельные работы в спб и лен обл</td>\n",
       "      <td>Кровельные работы Ленинградская / Строительств...</td>\n",
       "      <td>https://uslugio.com/leningradskaya/1/2/kroveln...</td>\n",
       "      <td>70</td>\n",
       "    </tr>\n",
       "  </tbody>\n",
       "</table>\n",
       "</div>"
      ],
      "text/plain": [
       "                               Фраза  \\\n",
       "0  кровельные работы в спб и лен обл   \n",
       "2  кровельные работы в спб и лен обл   \n",
       "4  кровельные работы в спб и лен обл   \n",
       "5  кровельные работы в спб и лен обл   \n",
       "6  кровельные работы в спб и лен обл   \n",
       "\n",
       "                                               Title  \\\n",
       "0  Кровельные работы, цена за м2 в Ленинградской ...   \n",
       "2  Монтаж кровли в Санкт-Петербурге, кровельные р...   \n",
       "4  Кровельные работы в Ленинградской области | Кр...   \n",
       "5  ремонт кровли - Предложения услуг в Ленинградс...   \n",
       "6  Кровельные работы Ленинградская / Строительств...   \n",
       "\n",
       "                                                 URL  Кластер_serp  \n",
       "0  https://www.remontnik.ru/leningradskaya_oblast...            70  \n",
       "2                               https://len-krov.ru/            36  \n",
       "4  https://krovmontage.spb.ru/krovelnye-raboty-v-...            70  \n",
       "5  https://www.avito.ru/leningradskaya_oblast/pre...            51  \n",
       "6  https://uslugio.com/leningradskaya/1/2/kroveln...            70  "
      ]
     },
     "execution_count": 13,
     "metadata": {},
     "output_type": "execute_result"
    }
   ],
   "source": [
    "df.head()"
   ]
  },
  {
   "cell_type": "markdown",
   "metadata": {},
   "source": [
    "#### Подсчет количества фраз внутри кластеров"
   ]
  },
  {
   "cell_type": "code",
   "execution_count": 14,
   "metadata": {},
   "outputs": [
    {
     "data": {
      "text/plain": [
       "70    542\n",
       "1     339\n",
       "2     313\n",
       "3     291\n",
       "4     252\n",
       "     ... \n",
       "65      8\n",
       "63      8\n",
       "68      7\n",
       "67      7\n",
       "69      7\n",
       "Name: Кластер_serp, Length: 70, dtype: int64"
      ]
     },
     "execution_count": 14,
     "metadata": {},
     "output_type": "execute_result"
    }
   ],
   "source": [
    "df['Кластер_serp'].value_counts()"
   ]
  },
  {
   "cell_type": "markdown",
   "metadata": {},
   "source": [
    "#### Удаление определенных кластеров"
   ]
  },
  {
   "cell_type": "code",
   "execution_count": 15,
   "metadata": {},
   "outputs": [],
   "source": [
    "cluster_filtering = df['Кластер_serp'] != 70\n",
    "#cluster_filtering = (df['Кластер'] != 70)&(df['Кластер'] != 1)&(df['Кластер'] != 2)"
   ]
  },
  {
   "cell_type": "code",
   "execution_count": 16,
   "metadata": {},
   "outputs": [],
   "source": [
    "df = df[cluster_filtering]"
   ]
  },
  {
   "cell_type": "code",
   "execution_count": 17,
   "metadata": {},
   "outputs": [
    {
     "data": {
      "text/plain": [
       "1     339\n",
       "2     313\n",
       "3     291\n",
       "4     252\n",
       "5     214\n",
       "     ... \n",
       "63      8\n",
       "65      8\n",
       "68      7\n",
       "67      7\n",
       "69      7\n",
       "Name: Кластер_serp, Length: 69, dtype: int64"
      ]
     },
     "execution_count": 17,
     "metadata": {},
     "output_type": "execute_result"
    }
   ],
   "source": [
    "df['Кластер_serp'].value_counts()"
   ]
  },
  {
   "cell_type": "markdown",
   "metadata": {},
   "source": [
    "### Экспорт кластеризации"
   ]
  },
  {
   "cell_type": "markdown",
   "metadata": {},
   "source": [
    "Создание нового листа в исходной таблице:"
   ]
  },
  {
   "cell_type": "code",
   "execution_count": 18,
   "metadata": {},
   "outputs": [],
   "source": [
    "with pd.ExcelWriter('sem_yadro_krovelnye_raboty.xlsx', engine='openpyxl') as report:\n",
    "    report.book = load_workbook('sem_yadro_krovelnye_raboty.xlsx')\n",
    "    df.to_excel(report, 'Кластеризация SERP', index=False)"
   ]
  },
  {
   "cell_type": "markdown",
   "metadata": {},
   "source": [
    "## Слияние с фразами, кластеризованными по словам"
   ]
  },
  {
   "cell_type": "markdown",
   "metadata": {},
   "source": [
    "Загрузка таблицы с первого листа с кластеризованными по смыслу словами:"
   ]
  },
  {
   "cell_type": "code",
   "execution_count": 19,
   "metadata": {},
   "outputs": [],
   "source": [
    "df_clustered_by_words = pd.read_excel('sem_yadro_krovelnye_raboty.xlsx')"
   ]
  },
  {
   "cell_type": "markdown",
   "metadata": {},
   "source": [
    "Удаление дубликатов фраз в таблице с кластеризованными серпами:"
   ]
  },
  {
   "cell_type": "code",
   "execution_count": 21,
   "metadata": {},
   "outputs": [],
   "source": [
    "df_clustered_by_serps = df.drop_duplicates(subset='Фраза')"
   ]
  },
  {
   "cell_type": "markdown",
   "metadata": {},
   "source": [
    "Удаление ненужных столбцов:"
   ]
  },
  {
   "cell_type": "code",
   "execution_count": 25,
   "metadata": {},
   "outputs": [],
   "source": [
    "df_clustered_by_serps = df_clustered_by_serps[['Фраза','Кластер_serp']]"
   ]
  },
  {
   "cell_type": "markdown",
   "metadata": {},
   "source": [
    "Слияние двух таблиц:"
   ]
  },
  {
   "cell_type": "code",
   "execution_count": 26,
   "metadata": {},
   "outputs": [],
   "source": [
    "new_df = df_clustered_by_words.merge(df_clustered_by_serps, on='Фраза')"
   ]
  },
  {
   "cell_type": "code",
   "execution_count": 27,
   "metadata": {
    "scrolled": true
   },
   "outputs": [
    {
     "data": {
      "text/html": [
       "<div>\n",
       "<style scoped>\n",
       "    .dataframe tbody tr th:only-of-type {\n",
       "        vertical-align: middle;\n",
       "    }\n",
       "\n",
       "    .dataframe tbody tr th {\n",
       "        vertical-align: top;\n",
       "    }\n",
       "\n",
       "    .dataframe thead th {\n",
       "        text-align: right;\n",
       "    }\n",
       "</style>\n",
       "<table border=\"1\" class=\"dataframe\">\n",
       "  <thead>\n",
       "    <tr style=\"text-align: right;\">\n",
       "      <th></th>\n",
       "      <th>Кластер</th>\n",
       "      <th>Название кластера</th>\n",
       "      <th>Фраза</th>\n",
       "      <th>Ч</th>\n",
       "      <th>\"Ч\"</th>\n",
       "      <th>\"!Ч\"</th>\n",
       "      <th>Кластер_serp</th>\n",
       "    </tr>\n",
       "  </thead>\n",
       "  <tbody>\n",
       "    <tr>\n",
       "      <th>0</th>\n",
       "      <td>КРОВЕЛЬНЫЕ РАБОТЫ</td>\n",
       "      <td>общие запросы</td>\n",
       "      <td>кровельные работы в спб и лен обл</td>\n",
       "      <td>1186</td>\n",
       "      <td>1186</td>\n",
       "      <td>1186</td>\n",
       "      <td>36</td>\n",
       "    </tr>\n",
       "    <tr>\n",
       "      <th>1</th>\n",
       "      <td>NaN</td>\n",
       "      <td>общие запросы</td>\n",
       "      <td>кровельные работы в спб</td>\n",
       "      <td>4136</td>\n",
       "      <td>815</td>\n",
       "      <td>815</td>\n",
       "      <td>1</td>\n",
       "    </tr>\n",
       "    <tr>\n",
       "      <th>2</th>\n",
       "      <td>NaN</td>\n",
       "      <td>общие запросы</td>\n",
       "      <td>кровельные работы санкт петербург</td>\n",
       "      <td>1742</td>\n",
       "      <td>221</td>\n",
       "      <td>221</td>\n",
       "      <td>2</td>\n",
       "    </tr>\n",
       "    <tr>\n",
       "      <th>3</th>\n",
       "      <td>NaN</td>\n",
       "      <td>общие запросы</td>\n",
       "      <td>кровельные работы ленинградская область</td>\n",
       "      <td>162</td>\n",
       "      <td>162</td>\n",
       "      <td>162</td>\n",
       "      <td>7</td>\n",
       "    </tr>\n",
       "    <tr>\n",
       "      <th>4</th>\n",
       "      <td>NaN</td>\n",
       "      <td>общие запросы</td>\n",
       "      <td>кровельные работы питер</td>\n",
       "      <td>141</td>\n",
       "      <td>141</td>\n",
       "      <td>141</td>\n",
       "      <td>61</td>\n",
       "    </tr>\n",
       "    <tr>\n",
       "      <th>...</th>\n",
       "      <td>...</td>\n",
       "      <td>...</td>\n",
       "      <td>...</td>\n",
       "      <td>...</td>\n",
       "      <td>...</td>\n",
       "      <td>...</td>\n",
       "      <td>...</td>\n",
       "    </tr>\n",
       "    <tr>\n",
       "      <th>224</th>\n",
       "      <td>ОНДУЛИН</td>\n",
       "      <td>цена</td>\n",
       "      <td>покрыть крышу ондулином цена работы</td>\n",
       "      <td>170</td>\n",
       "      <td>6</td>\n",
       "      <td>6</td>\n",
       "      <td>57</td>\n",
       "    </tr>\n",
       "    <tr>\n",
       "      <th>225</th>\n",
       "      <td>NaN</td>\n",
       "      <td>цена</td>\n",
       "      <td>укладка ондулина цена</td>\n",
       "      <td>61</td>\n",
       "      <td>23</td>\n",
       "      <td>8</td>\n",
       "      <td>56</td>\n",
       "    </tr>\n",
       "    <tr>\n",
       "      <th>226</th>\n",
       "      <td>NaN</td>\n",
       "      <td>цена</td>\n",
       "      <td>монтаж ондулина цена</td>\n",
       "      <td>102</td>\n",
       "      <td>34</td>\n",
       "      <td>34</td>\n",
       "      <td>56</td>\n",
       "    </tr>\n",
       "    <tr>\n",
       "      <th>227</th>\n",
       "      <td>NaN</td>\n",
       "      <td>цена</td>\n",
       "      <td>монтаж ондулина цена за м2 за работу</td>\n",
       "      <td>13</td>\n",
       "      <td>13</td>\n",
       "      <td>13</td>\n",
       "      <td>67</td>\n",
       "    </tr>\n",
       "    <tr>\n",
       "      <th>228</th>\n",
       "      <td>NaN</td>\n",
       "      <td>цена</td>\n",
       "      <td>монтаж ондулина цена за работу</td>\n",
       "      <td>23</td>\n",
       "      <td>8</td>\n",
       "      <td>8</td>\n",
       "      <td>57</td>\n",
       "    </tr>\n",
       "  </tbody>\n",
       "</table>\n",
       "<p>229 rows × 7 columns</p>\n",
       "</div>"
      ],
      "text/plain": [
       "               Кластер Название кластера  \\\n",
       "0    КРОВЕЛЬНЫЕ РАБОТЫ     общие запросы   \n",
       "1                  NaN     общие запросы   \n",
       "2                  NaN     общие запросы   \n",
       "3                  NaN     общие запросы   \n",
       "4                  NaN     общие запросы   \n",
       "..                 ...               ...   \n",
       "224            ОНДУЛИН              цена   \n",
       "225                NaN              цена   \n",
       "226                NaN              цена   \n",
       "227                NaN              цена   \n",
       "228                NaN              цена   \n",
       "\n",
       "                                       Фраза     Ч   \"Ч\"  \"!Ч\"  Кластер_serp  \n",
       "0          кровельные работы в спб и лен обл  1186  1186  1186            36  \n",
       "1                    кровельные работы в спб  4136   815   815             1  \n",
       "2          кровельные работы санкт петербург  1742   221   221             2  \n",
       "3    кровельные работы ленинградская область   162   162   162             7  \n",
       "4                    кровельные работы питер   141   141   141            61  \n",
       "..                                       ...   ...   ...   ...           ...  \n",
       "224      покрыть крышу ондулином цена работы   170     6     6            57  \n",
       "225                    укладка ондулина цена    61    23     8            56  \n",
       "226                     монтаж ондулина цена   102    34    34            56  \n",
       "227     монтаж ондулина цена за м2 за работу    13    13    13            67  \n",
       "228           монтаж ондулина цена за работу    23     8     8            57  \n",
       "\n",
       "[229 rows x 7 columns]"
      ]
     },
     "execution_count": 27,
     "metadata": {},
     "output_type": "execute_result"
    }
   ],
   "source": [
    "new_df"
   ]
  },
  {
   "cell_type": "markdown",
   "metadata": {},
   "source": [
    "### Экспорт"
   ]
  },
  {
   "cell_type": "markdown",
   "metadata": {},
   "source": [
    "Создание нового листа в исходной таблице:"
   ]
  },
  {
   "cell_type": "code",
   "execution_count": 29,
   "metadata": {},
   "outputs": [],
   "source": [
    "with pd.ExcelWriter('sem_yadro_krovelnye_raboty.xlsx', engine='openpyxl') as report:\n",
    "    report.book = load_workbook('sem_yadro_krovelnye_raboty.xlsx')\n",
    "    new_df.to_excel(report, 'ядро+кластер serp', index=False)"
   ]
  },
  {
   "cell_type": "markdown",
   "metadata": {},
   "source": [
    "## Получение списка доменов конкурентов"
   ]
  },
  {
   "cell_type": "markdown",
   "metadata": {},
   "source": [
    "### Получение домена из URL и подсчет количества"
   ]
  },
  {
   "cell_type": "code",
   "execution_count": 30,
   "metadata": {},
   "outputs": [],
   "source": [
    "domain_list = (df['URL']\n",
    "               .apply(lambda x: x.split('/'))\n",
    "               .apply(lambda x: x[2])\n",
    "               .value_counts().reset_index()\n",
    "               .rename(columns={'index':'Домен','domain':'Видимость'})\n",
    "              )"
   ]
  },
  {
   "cell_type": "code",
   "execution_count": 31,
   "metadata": {
    "scrolled": true
   },
   "outputs": [
    {
     "data": {
      "text/html": [
       "<div>\n",
       "<style scoped>\n",
       "    .dataframe tbody tr th:only-of-type {\n",
       "        vertical-align: middle;\n",
       "    }\n",
       "\n",
       "    .dataframe tbody tr th {\n",
       "        vertical-align: top;\n",
       "    }\n",
       "\n",
       "    .dataframe thead th {\n",
       "        text-align: right;\n",
       "    }\n",
       "</style>\n",
       "<table border=\"1\" class=\"dataframe\">\n",
       "  <thead>\n",
       "    <tr style=\"text-align: right;\">\n",
       "      <th></th>\n",
       "      <th>Домен</th>\n",
       "      <th>URL</th>\n",
       "    </tr>\n",
       "  </thead>\n",
       "  <tbody>\n",
       "    <tr>\n",
       "      <th>0</th>\n",
       "      <td>spb.krovlyaural.ru</td>\n",
       "      <td>339</td>\n",
       "    </tr>\n",
       "    <tr>\n",
       "      <th>1</th>\n",
       "      <td>roof-petersburg.ru</td>\n",
       "      <td>313</td>\n",
       "    </tr>\n",
       "    <tr>\n",
       "      <th>2</th>\n",
       "      <td>razvitiee.com</td>\n",
       "      <td>309</td>\n",
       "    </tr>\n",
       "    <tr>\n",
       "      <th>3</th>\n",
       "      <td>roof.spb.ru</td>\n",
       "      <td>252</td>\n",
       "    </tr>\n",
       "    <tr>\n",
       "      <th>4</th>\n",
       "      <td>mastera-v-spb.ru</td>\n",
       "      <td>214</td>\n",
       "    </tr>\n",
       "    <tr>\n",
       "      <th>5</th>\n",
       "      <td>esp-spb.ru</td>\n",
       "      <td>138</td>\n",
       "    </tr>\n",
       "    <tr>\n",
       "      <th>6</th>\n",
       "      <td>tosno-zavod.ru</td>\n",
       "      <td>131</td>\n",
       "    </tr>\n",
       "    <tr>\n",
       "      <th>7</th>\n",
       "      <td>remont-krovli-spb.ru</td>\n",
       "      <td>111</td>\n",
       "    </tr>\n",
       "    <tr>\n",
       "      <th>8</th>\n",
       "      <td>sankt-peterburg.trade-services.ru</td>\n",
       "      <td>110</td>\n",
       "    </tr>\n",
       "    <tr>\n",
       "      <th>9</th>\n",
       "      <td>spb.profi.ru</td>\n",
       "      <td>103</td>\n",
       "    </tr>\n",
       "    <tr>\n",
       "      <th>10</th>\n",
       "      <td>www.avito.ru</td>\n",
       "      <td>100</td>\n",
       "    </tr>\n",
       "    <tr>\n",
       "      <th>11</th>\n",
       "      <td>spb.pulscen.ru</td>\n",
       "      <td>78</td>\n",
       "    </tr>\n",
       "    <tr>\n",
       "      <th>12</th>\n",
       "      <td>srg-krovlya.ru</td>\n",
       "      <td>71</td>\n",
       "    </tr>\n",
       "    <tr>\n",
       "      <th>13</th>\n",
       "      <td>www.nn-krovlya.ru</td>\n",
       "      <td>63</td>\n",
       "    </tr>\n",
       "    <tr>\n",
       "      <th>14</th>\n",
       "      <td>www.favor-group.ru</td>\n",
       "      <td>59</td>\n",
       "    </tr>\n",
       "    <tr>\n",
       "      <th>15</th>\n",
       "      <td>spb.grandline.ru</td>\n",
       "      <td>59</td>\n",
       "    </tr>\n",
       "    <tr>\n",
       "      <th>16</th>\n",
       "      <td>dachastroy.pro</td>\n",
       "      <td>56</td>\n",
       "    </tr>\n",
       "    <tr>\n",
       "      <th>17</th>\n",
       "      <td>roofers.ru</td>\n",
       "      <td>54</td>\n",
       "    </tr>\n",
       "    <tr>\n",
       "      <th>18</th>\n",
       "      <td>kfs-spb.ru</td>\n",
       "      <td>50</td>\n",
       "    </tr>\n",
       "    <tr>\n",
       "      <th>19</th>\n",
       "      <td>spbsgm.ru</td>\n",
       "      <td>45</td>\n",
       "    </tr>\n",
       "    <tr>\n",
       "      <th>20</th>\n",
       "      <td>m-strana.ru</td>\n",
       "      <td>45</td>\n",
       "    </tr>\n",
       "    <tr>\n",
       "      <th>21</th>\n",
       "      <td>askspbstroy.ru</td>\n",
       "      <td>40</td>\n",
       "    </tr>\n",
       "    <tr>\n",
       "      <th>22</th>\n",
       "      <td>fasad-prosto.ru</td>\n",
       "      <td>35</td>\n",
       "    </tr>\n",
       "    <tr>\n",
       "      <th>23</th>\n",
       "      <td>usproekt.pro</td>\n",
       "      <td>33</td>\n",
       "    </tr>\n",
       "    <tr>\n",
       "      <th>24</th>\n",
       "      <td>spb.stroyprofil.pro</td>\n",
       "      <td>33</td>\n",
       "    </tr>\n",
       "    <tr>\n",
       "      <th>25</th>\n",
       "      <td>www.latri.ru</td>\n",
       "      <td>31</td>\n",
       "    </tr>\n",
       "    <tr>\n",
       "      <th>26</th>\n",
       "      <td>ремоснова.рф</td>\n",
       "      <td>28</td>\n",
       "    </tr>\n",
       "    <tr>\n",
       "      <th>27</th>\n",
       "      <td>spb.blizko.ru</td>\n",
       "      <td>22</td>\n",
       "    </tr>\n",
       "    <tr>\n",
       "      <th>28</th>\n",
       "      <td>stroy-praktika.ru</td>\n",
       "      <td>18</td>\n",
       "    </tr>\n",
       "    <tr>\n",
       "      <th>29</th>\n",
       "      <td>rsk-piter.ru</td>\n",
       "      <td>16</td>\n",
       "    </tr>\n",
       "    <tr>\n",
       "      <th>30</th>\n",
       "      <td>len-krov.ru</td>\n",
       "      <td>15</td>\n",
       "    </tr>\n",
       "    <tr>\n",
       "      <th>31</th>\n",
       "      <td>spb.tiu.ru</td>\n",
       "      <td>14</td>\n",
       "    </tr>\n",
       "    <tr>\n",
       "      <th>32</th>\n",
       "      <td>sankt-peterburg.myguru.ru</td>\n",
       "      <td>14</td>\n",
       "    </tr>\n",
       "    <tr>\n",
       "      <th>33</th>\n",
       "      <td>nash-gorod.org</td>\n",
       "      <td>12</td>\n",
       "    </tr>\n",
       "    <tr>\n",
       "      <th>34</th>\n",
       "      <td>монтажкровли.рус</td>\n",
       "      <td>12</td>\n",
       "    </tr>\n",
       "    <tr>\n",
       "      <th>35</th>\n",
       "      <td>кровли-аск.рф</td>\n",
       "      <td>11</td>\n",
       "    </tr>\n",
       "    <tr>\n",
       "      <th>36</th>\n",
       "      <td>unikma.ru</td>\n",
       "      <td>11</td>\n",
       "    </tr>\n",
       "    <tr>\n",
       "      <th>37</th>\n",
       "      <td>www.lenremont.ru</td>\n",
       "      <td>11</td>\n",
       "    </tr>\n",
       "    <tr>\n",
       "      <th>38</th>\n",
       "      <td>kromvel.net</td>\n",
       "      <td>9</td>\n",
       "    </tr>\n",
       "    <tr>\n",
       "      <th>39</th>\n",
       "      <td>krovlya-stroy.com</td>\n",
       "      <td>9</td>\n",
       "    </tr>\n",
       "    <tr>\n",
       "      <th>40</th>\n",
       "      <td>tepliydom-spb.ru</td>\n",
       "      <td>9</td>\n",
       "    </tr>\n",
       "    <tr>\n",
       "      <th>41</th>\n",
       "      <td>stroimdomavspb.com</td>\n",
       "      <td>8</td>\n",
       "    </tr>\n",
       "    <tr>\n",
       "      <th>42</th>\n",
       "      <td>pvh-membrannaya-krovlya.ru</td>\n",
       "      <td>7</td>\n",
       "    </tr>\n",
       "    <tr>\n",
       "      <th>43</th>\n",
       "      <td>krovlya-nn.tut-deshevo.ru</td>\n",
       "      <td>7</td>\n",
       "    </tr>\n",
       "    <tr>\n",
       "      <th>44</th>\n",
       "      <td>smetnoedelo.ru</td>\n",
       "      <td>1</td>\n",
       "    </tr>\n",
       "    <tr>\n",
       "      <th>45</th>\n",
       "      <td>sankt-peterburg.gorodrabot.ru</td>\n",
       "      <td>1</td>\n",
       "    </tr>\n",
       "  </tbody>\n",
       "</table>\n",
       "</div>"
      ],
      "text/plain": [
       "                                Домен  URL\n",
       "0                  spb.krovlyaural.ru  339\n",
       "1                  roof-petersburg.ru  313\n",
       "2                       razvitiee.com  309\n",
       "3                         roof.spb.ru  252\n",
       "4                    mastera-v-spb.ru  214\n",
       "5                          esp-spb.ru  138\n",
       "6                      tosno-zavod.ru  131\n",
       "7                remont-krovli-spb.ru  111\n",
       "8   sankt-peterburg.trade-services.ru  110\n",
       "9                        spb.profi.ru  103\n",
       "10                       www.avito.ru  100\n",
       "11                     spb.pulscen.ru   78\n",
       "12                     srg-krovlya.ru   71\n",
       "13                  www.nn-krovlya.ru   63\n",
       "14                 www.favor-group.ru   59\n",
       "15                   spb.grandline.ru   59\n",
       "16                     dachastroy.pro   56\n",
       "17                         roofers.ru   54\n",
       "18                         kfs-spb.ru   50\n",
       "19                          spbsgm.ru   45\n",
       "20                        m-strana.ru   45\n",
       "21                     askspbstroy.ru   40\n",
       "22                    fasad-prosto.ru   35\n",
       "23                       usproekt.pro   33\n",
       "24                spb.stroyprofil.pro   33\n",
       "25                       www.latri.ru   31\n",
       "26                       ремоснова.рф   28\n",
       "27                      spb.blizko.ru   22\n",
       "28                  stroy-praktika.ru   18\n",
       "29                       rsk-piter.ru   16\n",
       "30                        len-krov.ru   15\n",
       "31                         spb.tiu.ru   14\n",
       "32          sankt-peterburg.myguru.ru   14\n",
       "33                     nash-gorod.org   12\n",
       "34                   монтажкровли.рус   12\n",
       "35                      кровли-аск.рф   11\n",
       "36                          unikma.ru   11\n",
       "37                   www.lenremont.ru   11\n",
       "38                        kromvel.net    9\n",
       "39                  krovlya-stroy.com    9\n",
       "40                   tepliydom-spb.ru    9\n",
       "41                 stroimdomavspb.com    8\n",
       "42         pvh-membrannaya-krovlya.ru    7\n",
       "43          krovlya-nn.tut-deshevo.ru    7\n",
       "44                     smetnoedelo.ru    1\n",
       "45      sankt-peterburg.gorodrabot.ru    1"
      ]
     },
     "execution_count": 31,
     "metadata": {},
     "output_type": "execute_result"
    }
   ],
   "source": [
    "domain_list"
   ]
  },
  {
   "cell_type": "markdown",
   "metadata": {},
   "source": [
    "### Экспорт списка окнкурентов"
   ]
  },
  {
   "cell_type": "code",
   "execution_count": 33,
   "metadata": {},
   "outputs": [],
   "source": [
    "with pd.ExcelWriter('sem_yadro_krovelnye_raboty.xlsx', engine='openpyxl') as report:\n",
    "    report.book = load_workbook('sem_yadro_krovelnye_raboty.xlsx')\n",
    "    domain_list.to_excel(report, 'Список конкурентов', index=False)"
   ]
  }
 ],
 "metadata": {
  "celltoolbar": "Необработанный формат ячейки",
  "kernelspec": {
   "display_name": "Python 3",
   "language": "python",
   "name": "python3"
  },
  "language_info": {
   "codemirror_mode": {
    "name": "ipython",
    "version": 3
   },
   "file_extension": ".py",
   "mimetype": "text/x-python",
   "name": "python",
   "nbconvert_exporter": "python",
   "pygments_lexer": "ipython3",
   "version": "3.7.9"
  }
 },
 "nbformat": 4,
 "nbformat_minor": 2
}
